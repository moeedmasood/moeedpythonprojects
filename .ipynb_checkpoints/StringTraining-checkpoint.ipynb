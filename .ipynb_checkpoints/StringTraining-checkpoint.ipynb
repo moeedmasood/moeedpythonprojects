{
 "cells": [
  {
   "cell_type": "code",
   "execution_count": 3,
   "id": "e6dabff9",
   "metadata": {},
   "outputs": [
    {
     "name": "stdout",
     "output_type": "stream",
     "text": [
      "Moeed Masood\n"
     ]
    }
   ],
   "source": [
    "data = \"Moeed Masood\"\n",
    "print(data)"
   ]
  },
  {
   "cell_type": "code",
   "execution_count": null,
   "id": "f020e17a",
   "metadata": {},
   "outputs": [],
   "source": []
  },
  {
   "cell_type": "code",
   "execution_count": 7,
   "id": "8d94a140",
   "metadata": {},
   "outputs": [
    {
     "name": "stdout",
     "output_type": "stream",
     "text": [
      "\n",
      "\n",
      "Name          = Moeed Masood\n",
      "Father's Name = Masood Khan\n",
      "Batch         = 36 - 37\n",
      "\n"
     ]
    }
   ],
   "source": [
    "par2=\"\"\"\n",
    "\n",
    "Name          = Moeed Masood\n",
    "Father's Name = Masood Khan\n",
    "Batch         = 36 - 37\n",
    "\"\"\"\n",
    "print(par2)"
   ]
  },
  {
   "cell_type": "code",
   "execution_count": 8,
   "id": "f9f97177",
   "metadata": {},
   "outputs": [
    {
     "data": {
      "text/plain": [
       "\"\\n\\nName          = Moeed Masood\\nFather's Name = Masood Khan\\nBatch         = 36 - 37\\n\""
      ]
     },
     "execution_count": 8,
     "metadata": {},
     "output_type": "execute_result"
    }
   ],
   "source": [
    "par2"
   ]
  },
  {
   "cell_type": "code",
   "execution_count": null,
   "id": "1b51a6d0",
   "metadata": {},
   "outputs": [],
   "source": []
  }
 ],
 "metadata": {
  "kernelspec": {
   "display_name": "Python 3 (ipykernel)",
   "language": "python",
   "name": "python3"
  },
  "language_info": {
   "codemirror_mode": {
    "name": "ipython",
    "version": 3
   },
   "file_extension": ".py",
   "mimetype": "text/x-python",
   "name": "python",
   "nbconvert_exporter": "python",
   "pygments_lexer": "ipython3",
   "version": "3.9.12"
  }
 },
 "nbformat": 4,
 "nbformat_minor": 5
}
