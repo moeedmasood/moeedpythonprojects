{
 "cells": [
  {
   "cell_type": "code",
   "execution_count": 1,
   "id": "f3fdcaae",
   "metadata": {},
   "outputs": [
    {
     "data": {
      "text/plain": [
       "7"
      ]
     },
     "execution_count": 1,
     "metadata": {},
     "output_type": "execute_result"
    }
   ],
   "source": [
    "2+5"
   ]
  },
  {
   "cell_type": "code",
   "execution_count": 2,
   "id": "5af0469d",
   "metadata": {},
   "outputs": [
    {
     "name": "stdout",
     "output_type": "stream",
     "text": [
      "PIAIC\n",
      "36/37\n",
      "Muhammad Qasim\n",
      "9 am to 12 am\n"
     ]
    }
   ],
   "source": [
    "school=\"PIAIC\"\n",
    "batch=\"36/37\"\n",
    "teacher =\"Muhammad Qasim\"\n",
    "timing = \"9 am to 12 am\"\n",
    "\n",
    "print(school)\n",
    "print(batch)\n",
    "print(teacher)\n",
    "print(timing)\n",
    "\n"
   ]
  },
  {
   "cell_type": "code",
   "execution_count": 3,
   "id": "b61e233b",
   "metadata": {},
   "outputs": [
    {
     "name": "stdout",
     "output_type": "stream",
     "text": [
      "2682589401200\n",
      "2682589402416\n",
      "2682589401392\n",
      "2682589402288\n"
     ]
    }
   ],
   "source": [
    "print(id(school))\n",
    "print(id(batch))\n",
    "print(id(teacher))\n",
    "print(id(timing))"
   ]
  }
 ],
 "metadata": {
  "kernelspec": {
   "display_name": "Python 3 (ipykernel)",
   "language": "python",
   "name": "python3"
  },
  "language_info": {
   "codemirror_mode": {
    "name": "ipython",
    "version": 3
   },
   "file_extension": ".py",
   "mimetype": "text/x-python",
   "name": "python",
   "nbconvert_exporter": "python",
   "pygments_lexer": "ipython3",
   "version": "3.9.12"
  }
 },
 "nbformat": 4,
 "nbformat_minor": 5
}
